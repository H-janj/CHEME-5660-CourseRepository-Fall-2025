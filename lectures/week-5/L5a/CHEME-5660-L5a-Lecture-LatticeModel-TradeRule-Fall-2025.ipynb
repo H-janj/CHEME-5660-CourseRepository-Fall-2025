{
 "cells": [
  {
   "cell_type": "markdown",
   "id": "9e8d54a9",
   "metadata": {},
   "source": [
    "# L5a: Trading rules using binomial lattice models\n",
    "Fill me in.\n",
    "\n",
    "___"
   ]
  },
  {
   "cell_type": "markdown",
   "id": "5efc310b",
   "metadata": {},
   "source": [
    "## Concept Review: Binomial Lattice Model\n",
    "A binomial lattice model is a discrete-time model used to represent the evolution of an asset's price over time. \n",
    "> __Binomial Lattice Model__: A binomial lattice model assumes that at each time step, the asset can either move up by a factor $u$ with a probability $p$ or down by a factor $d$ with probability $(1-p)$, creating a tree-like structure of possible future prices. At time $t\\geq{0}$ there will be $t+1$ possible prices. \n",
    "\n",
    "> __Key assumptions__: The probability $p$, and the up and down factors are independent of the time step $t$, i.e., these parameters are constant across the lattice. The up, down and probability parameters are specific to each firm.\n",
    "\n",
    "The complete price distribution at level $t$ follows:\n",
    "$$\n",
    "\\boxed{\n",
    "S_t = S_0 u^k d^{t-k} \\quad \\text{with probability} \\quad \\binom{t}{k}\\;p^k (1-p)^{t-k}, \\quad k = 0,1,\\ldots,t\n",
    "}\n",
    "$$\n",
    "\n",
    "Fill me in.\n",
    "\n",
    "___"
   ]
  },
  {
   "cell_type": "markdown",
   "id": "9e188f5b",
   "metadata": {},
   "source": [
    "## Net Present Value (NPV) trade rule\n",
    "Let's develop an expression that allows to compute trade entry and exit rules based on the net present value (NPV) of a trade.\n",
    "\n",
    "> __Scenario:__ Suppose we purchase $n_{o}$ shares of ticker `XYZ` at time $t=0$ (today) for $S_{0}$ USD/share.\n",
    "> Then, sometime later, at $T=i\\Delta{t}$, we sell all $n_{o}$ shares at a share price of $S_{T}$ USD/share, where $i\\geq{0}$ is the number of time steps (integer) and $\\Delta{t}$ is the time step (e.g., one trading day written in units of years).\n",
    "\n",
    "The net present value (NPV) of this trade (written from our perspective) will have two cash flow events, the initial purchase at $t=0$ (entry) and the sale at $t=T$ (exit):\n",
    "$$\n",
    "\\begin{equation*}\n",
    "\\texttt{NPV}(\\bar{r}, T) = \\underbrace{-n_{o}\\;{S_{0}}}_{\\text{entry (now)}} + \\underbrace{n_{o}\\;{S_{T}}\\;\\mathcal{D}_{T,0}^{-1}(\\bar{r})}_{\\text{exit (future)}}\n",
    "\\end{equation*}\n",
    "$$\n",
    "where $\\mathcal{D}^{-1}_{T,0}(\\bar{r})$ is the (inverse) continuous discount factor for period $0\\rightarrow{T}$ assuming a (constant) discount rate $\\bar{r}$. Let's take a closer look at this NPV expression, in the context of short-term and long-term investments. In the case of a short-term investment, we can ignore the discount factor; however, for a long-term investment, we must account for the discount factor.\n",
    "\n",
    "### Short-term investment\n",
    "If we hold the shares for a short period, e.g., a few days or even a few months, for realistic choices of the discount rate $\\bar{r}$, then $\\mathcal{D}_{T,0}(\\bar{r})\\approx{1}$, which simplifies the NPV to:\n",
    "$$\n",
    "\\begin{align*}\n",
    "\\texttt{NPV}(T) &\\approx n_{o}\\;(S_{T}-S_{0})\\quad\\Longrightarrow\\text{divide by initial investment}\\;n_{o}\\;{S_{0}}\\\\\n",
    "\\frac{\\texttt{NPV}(T)}{n_{o}\\;{S_{0}}} &\\approx \\frac{S_{T}-S_{0}}{S_{0}}\\\\\n",
    "\\underbrace{\\frac{\\texttt{NPV}(T)}{n_{o}\\;{S_{0}}}}_{\\text{fractional return}} &\\approx \\frac{S_{T}}{S_{0}} - 1\\quad\\blacksquare\n",
    "\\end{align*}\n",
    "$$\n",
    "This expression is nice for a couple of reasons. \n",
    "\n",
    "* First, it is dimensionless, which means we can compare the NPV of different trade rules across different stocks. \n",
    "* Second, it has the meaning of a __fractional return on investment__ (ROI). Alternatively, we can specify a __desired__ target fractional return, e.g., $\\pm{0.1}$, and solve for the target exit price $S_{T}$ we must achieve to hit our target ROI. \n",
    "* Finally, it is nice because it allows us to __probability of hitting our target ROI__ if we have a model for the future share price $S_{T}$. \n",
    "\n",
    "Let's start by looking at the extreme cases.\n",
    "\n",
    "> __Extreme cases__:\n",
    ">\n",
    "> Let's consider three extreme cases:\n",
    "> 1. If $S_{T} = S_{0}$, then the scaled $\\texttt{NPV}(T)/n_{o}\\;{S_{0}} = 0$, i.e., we break even at time $T=i\\Delta{t}$.\n",
    "> 2. If $S_{T} = 0$, then the scaled $\\texttt{NPV}(T)/n_{o}\\;{S_{0}} = -1$, i.e., we lose our entire investment at time $T=i\\Delta{t}$.\n",
    "> 3. If $S_{T} \\rightarrow \\infty$, then the scaled $\\texttt{NPV}(T)/n_{o}\\;{S_{0}} \\rightarrow \\infty$, i.e., we make an infinite profit at time $T=i\\Delta{t}$.\n",
    "\n",
    "\n",
    "Substituting our model for $S_{T}$, we have:\n",
    "$$\n",
    "\\begin{align*}\n",
    "\\frac{\\texttt{NPV}(T)}{n_{o}\\;{S_{0}}} &\\approx \\frac{S_0 \\exp(\\Delta t\\;\\mu_{T})}{S_{0}} - 1\\\\\n",
    "\\frac{\\texttt{NPV}(T)}{n_{o}\\;{S_{0}}} &\\approx \\exp(\\Delta t\\;\\mu_{T}) - 1\\quad\\blacksquare\n",
    "\\end{align*}\n",
    "$$\n",
    "\n",
    "### Long-term investment\n",
    "If we hold the shares for a long period, e.g., years, then we must account for the discount factor $\\mathcal{D}_{T,0}(\\bar{r})$, which simplifies the NPV to:\n",
    "$$\n",
    "\\begin{align*}\n",
    "\\texttt{NPV}(\\bar{r}, T) &= n_{o}\\;(S_{T}\\;\\mathcal{D}_{T,0}^{-1}(\\bar{r}) - S_{0})\\quad\\Longrightarrow\\text{divide by initial investment}\\;n_{o}\\;{S_{0}}\\\\\n",
    "\\frac{\\texttt{NPV}(\\bar{r}, T)}{n_{o}\\;{S_{0}}} &= \\frac{S_{T}\\;\\mathcal{D}_{T,0}^{-1}(\\bar{r}) - S_{0}}{S_{0}}\\\\\n",
    "\\frac{\\texttt{NPV}(\\bar{r}, T)}{n_{o}\\;{S_{0}}} &= \\left(\\frac{S_{T}}{S_{0}}\\right)\\;\\mathcal{D}_{T,0}^{-1}(\\bar{r}) - 1\\quad\\blacksquare\n",
    "\\end{align*}\n",
    "$$\n",
    "\n",
    "\n",
    "One of the nice features of our continuously compounded price model is that we can compute multi-step growth rates by summing the one-step growth rates (assuming equal time steps):\n",
    "$$\n",
    "\\begin{align*}\n",
    "S_{T} & = S_0 \\exp\\Big(\\Delta t\\;\\underbrace{\\sum_{j=1}^{T}\\mu_{j,j-1}}_{=\\mu_{T}}\\Big)\n",
    "\\end{align*}\n",
    "$$\n",
    "where $\\mu_{T} = \\sum_{j=1}^{T}\\mu_{j,j-1}$ is the __cumulative growth rate__ over $T$ steps. So, if we had a model for the cumulative growth rate $\\mu_{T}$, we could compute the NPV of our trade rule."
   ]
  },
  {
   "cell_type": "markdown",
   "id": "765b607b",
   "metadata": {},
   "source": [
    "## Disclaimer and Risks\n",
    "__This content is offered solely for training and informational purposes__. No offer or solicitation to buy or sell securities or derivative products or any investment or trading advice or strategy is made, given, or endorsed by the teaching team. \n",
    "\n",
    "__Trading involves risk__. Carefully review your financial situation before investing in securities, futures contracts, options, or commodity interests. Past performance, whether actual or indicated by historical tests of strategies, is no guarantee of future performance or success. Trading is generally inappropriate for someone with limited resources, investment or trading experience, or a low-risk tolerance.  Only risk capital that is not required for living expenses.\n",
    "\n",
    "__You are fully responsible for any investment or trading decisions you make__. Such decisions should be based solely on evaluating your financial circumstances, investment or trading objectives, risk tolerance, and liquidity needs.\n",
    "\n",
    "___"
   ]
  },
  {
   "cell_type": "markdown",
   "id": "703fd654",
   "metadata": {},
   "source": []
  }
 ],
 "metadata": {
  "language_info": {
   "name": "python"
  }
 },
 "nbformat": 4,
 "nbformat_minor": 5
}
